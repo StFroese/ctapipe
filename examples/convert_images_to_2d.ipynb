{
 "cells": [
  {
   "cell_type": "markdown",
   "metadata": {},
   "source": [
    "# Convert camera images to pixels on a s square grid"
   ]
  },
  {
   "cell_type": "code",
   "execution_count": 1,
   "metadata": {
    "execution": {
     "iopub.execute_input": "2023-01-10T11:21:45.406460Z",
     "iopub.status.busy": "2023-01-10T11:21:45.406230Z",
     "iopub.status.idle": "2023-01-10T11:21:49.897211Z",
     "shell.execute_reply": "2023-01-10T11:21:49.896373Z"
    }
   },
   "outputs": [],
   "source": [
    "from ctapipe.utils import get_dataset_path\n",
    "from ctapipe.visualization import CameraDisplay\n",
    "from ctapipe.instrument import SubarrayDescription\n",
    "from ctapipe.io import EventSource\n",
    "from ctapipe.image.toymodel import Gaussian\n",
    "import matplotlib.pyplot as plt\n",
    "import astropy.units as u"
   ]
  },
  {
   "cell_type": "code",
   "execution_count": 2,
   "metadata": {
    "execution": {
     "iopub.execute_input": "2023-01-10T11:21:49.901278Z",
     "iopub.status.busy": "2023-01-10T11:21:49.900690Z",
     "iopub.status.idle": "2023-01-10T11:21:50.612794Z",
     "shell.execute_reply": "2023-01-10T11:21:50.611834Z"
    }
   },
   "outputs": [],
   "source": [
    "# get the subarray from an example file\n",
    "subarray = SubarrayDescription.read(\"dataset://gamma_prod5.simtel.zst\")"
   ]
  },
  {
   "cell_type": "markdown",
   "metadata": {},
   "source": [
    "## Geometries with square pixels\n",
    "\n",
    "Define a camera geometry and generate a dummy image:"
   ]
  },
  {
   "cell_type": "code",
   "execution_count": 3,
   "metadata": {
    "execution": {
     "iopub.execute_input": "2023-01-10T11:21:50.617135Z",
     "iopub.status.busy": "2023-01-10T11:21:50.616623Z",
     "iopub.status.idle": "2023-01-10T11:21:50.643959Z",
     "shell.execute_reply": "2023-01-10T11:21:50.643259Z"
    }
   },
   "outputs": [],
   "source": [
    "geom = subarray.tel[40].camera.geometry\n",
    "model = Gaussian(\n",
    "    x=0.05 * u.m,\n",
    "    y=0.05 * u.m,\n",
    "    width=0.01 * u.m,\n",
    "    length=0.05 * u.m,\n",
    "    psi=\"30d\",\n",
    ")\n",
    "_, image, _ = model.generate_image(geom, intensity=500, nsb_level_pe=3)"
   ]
  },
  {
   "cell_type": "code",
   "execution_count": 4,
   "metadata": {
    "execution": {
     "iopub.execute_input": "2023-01-10T11:21:50.649361Z",
     "iopub.status.busy": "2023-01-10T11:21:50.647927Z",
     "iopub.status.idle": "2023-01-10T11:21:51.105441Z",
     "shell.execute_reply": "2023-01-10T11:21:51.104857Z"
    }
   },
   "outputs": [
    {
     "data": {
      "text/plain": [
       "<ctapipe.visualization.mpl_camera.CameraDisplay at 0x7f101c30c760>"
      ]
     },
     "execution_count": 4,
     "metadata": {},
     "output_type": "execute_result"
    }
   ],
   "source": [
    "CameraDisplay(geom, image)"
   ]
  },
  {
   "cell_type": "markdown",
   "metadata": {},
   "source": [
    "The `CameraGeometry` has functions to convert the 1d image arrays to 2d arrays and back to the 1d array:"
   ]
  },
  {
   "cell_type": "code",
   "execution_count": 5,
   "metadata": {
    "execution": {
     "iopub.execute_input": "2023-01-10T11:21:51.109383Z",
     "iopub.status.busy": "2023-01-10T11:21:51.108860Z",
     "iopub.status.idle": "2023-01-10T11:21:51.114343Z",
     "shell.execute_reply": "2023-01-10T11:21:51.113749Z"
    }
   },
   "outputs": [],
   "source": [
    "image_square = geom.image_to_cartesian_representation(image)"
   ]
  },
  {
   "cell_type": "code",
   "execution_count": 6,
   "metadata": {
    "execution": {
     "iopub.execute_input": "2023-01-10T11:21:51.117965Z",
     "iopub.status.busy": "2023-01-10T11:21:51.117481Z",
     "iopub.status.idle": "2023-01-10T11:21:51.125482Z",
     "shell.execute_reply": "2023-01-10T11:21:51.124949Z"
    }
   },
   "outputs": [
    {
     "data": {
      "text/plain": [
       "<matplotlib.image.AxesImage at 0x7f101bfe36a0>"
      ]
     },
     "execution_count": 6,
     "metadata": {},
     "output_type": "execute_result"
    }
   ],
   "source": [
    "plt.imshow(image_square)"
   ]
  },
  {
   "cell_type": "code",
   "execution_count": 7,
   "metadata": {
    "execution": {
     "iopub.execute_input": "2023-01-10T11:21:51.129100Z",
     "iopub.status.busy": "2023-01-10T11:21:51.128613Z",
     "iopub.status.idle": "2023-01-10T11:21:51.133082Z",
     "shell.execute_reply": "2023-01-10T11:21:51.132564Z"
    }
   },
   "outputs": [],
   "source": [
    "image_1d = geom.image_from_cartesian_representation(image_square)"
   ]
  },
  {
   "cell_type": "code",
   "execution_count": 8,
   "metadata": {
    "execution": {
     "iopub.execute_input": "2023-01-10T11:21:51.137533Z",
     "iopub.status.busy": "2023-01-10T11:21:51.136168Z",
     "iopub.status.idle": "2023-01-10T11:21:51.409499Z",
     "shell.execute_reply": "2023-01-10T11:21:51.408932Z"
    }
   },
   "outputs": [
    {
     "data": {
      "text/plain": [
       "<ctapipe.visualization.mpl_camera.CameraDisplay at 0x7f101bfe3d60>"
      ]
     },
     "execution_count": 8,
     "metadata": {},
     "output_type": "execute_result"
    }
   ],
   "source": [
    "CameraDisplay(geom, image_1d)"
   ]
  },
  {
   "cell_type": "markdown",
   "metadata": {},
   "source": [
    "## Geometries with hexagonal pixels\n",
    "\n",
    "Define a camera geometry and generate a dummy image:"
   ]
  },
  {
   "cell_type": "code",
   "execution_count": 9,
   "metadata": {
    "execution": {
     "iopub.execute_input": "2023-01-10T11:21:51.413341Z",
     "iopub.status.busy": "2023-01-10T11:21:51.412900Z",
     "iopub.status.idle": "2023-01-10T11:21:51.420682Z",
     "shell.execute_reply": "2023-01-10T11:21:51.420103Z"
    }
   },
   "outputs": [],
   "source": [
    "geom = subarray.tel[1].camera.geometry\n",
    "model = Gaussian(\n",
    "    x=0.5 * u.m,\n",
    "    y=0.5 * u.m,\n",
    "    width=0.1 * u.m,\n",
    "    length=0.2 * u.m,\n",
    "    psi=\"30d\",\n",
    ")\n",
    "_, image, _ = model.generate_image(geom, intensity=5000)"
   ]
  },
  {
   "cell_type": "code",
   "execution_count": 10,
   "metadata": {
    "execution": {
     "iopub.execute_input": "2023-01-10T11:21:51.424498Z",
     "iopub.status.busy": "2023-01-10T11:21:51.423856Z",
     "iopub.status.idle": "2023-01-10T11:21:51.700653Z",
     "shell.execute_reply": "2023-01-10T11:21:51.700072Z"
    }
   },
   "outputs": [
    {
     "data": {
      "text/plain": [
       "<ctapipe.visualization.mpl_camera.CameraDisplay at 0x7f101e33a460>"
      ]
     },
     "execution_count": 10,
     "metadata": {},
     "output_type": "execute_result"
    }
   ],
   "source": [
    "CameraDisplay(geom, image)"
   ]
  },
  {
   "cell_type": "code",
   "execution_count": 11,
   "metadata": {
    "execution": {
     "iopub.execute_input": "2023-01-10T11:21:51.704472Z",
     "iopub.status.busy": "2023-01-10T11:21:51.703929Z",
     "iopub.status.idle": "2023-01-10T11:21:51.712103Z",
     "shell.execute_reply": "2023-01-10T11:21:51.711553Z"
    }
   },
   "outputs": [],
   "source": [
    "image_square = geom.image_to_cartesian_representation(image)"
   ]
  },
  {
   "cell_type": "markdown",
   "metadata": {},
   "source": [
    "## Conversion into square geometry\n",
    "\n",
    "Since the resulting array has square pixels, the pixel grid has to be rotated and distorted.\n",
    "This is reversible (The `image_from_cartesian_representation` method takes care of this):"
   ]
  },
  {
   "cell_type": "code",
   "execution_count": 12,
   "metadata": {
    "execution": {
     "iopub.execute_input": "2023-01-10T11:21:51.716784Z",
     "iopub.status.busy": "2023-01-10T11:21:51.715378Z",
     "iopub.status.idle": "2023-01-10T11:21:51.723433Z",
     "shell.execute_reply": "2023-01-10T11:21:51.722899Z"
    }
   },
   "outputs": [
    {
     "data": {
      "text/plain": [
       "<matplotlib.image.AxesImage at 0x7f101e33adc0>"
      ]
     },
     "execution_count": 12,
     "metadata": {},
     "output_type": "execute_result"
    }
   ],
   "source": [
    "plt.imshow(image_square)"
   ]
  },
  {
   "cell_type": "code",
   "execution_count": 13,
   "metadata": {
    "execution": {
     "iopub.execute_input": "2023-01-10T11:21:51.727912Z",
     "iopub.status.busy": "2023-01-10T11:21:51.726522Z",
     "iopub.status.idle": "2023-01-10T11:21:51.731327Z",
     "shell.execute_reply": "2023-01-10T11:21:51.730805Z"
    }
   },
   "outputs": [],
   "source": [
    "image_1d = geom.image_from_cartesian_representation(image_square)"
   ]
  },
  {
   "cell_type": "code",
   "execution_count": 14,
   "metadata": {
    "execution": {
     "iopub.execute_input": "2023-01-10T11:21:51.735831Z",
     "iopub.status.busy": "2023-01-10T11:21:51.734455Z",
     "iopub.status.idle": "2023-01-10T11:21:52.156129Z",
     "shell.execute_reply": "2023-01-10T11:21:52.155403Z"
    }
   },
   "outputs": [],
   "source": [
    "disp = CameraDisplay(geom, image_1d)"
   ]
  }
 ],
 "metadata": {
  "kernelspec": {
   "display_name": "Python 3 (ipykernel)",
   "language": "python",
   "name": "python3"
  },
  "language_info": {
   "codemirror_mode": {
    "name": "ipython",
    "version": 3
   },
   "file_extension": ".py",
   "mimetype": "text/x-python",
   "name": "python",
   "nbconvert_exporter": "python",
   "pygments_lexer": "ipython3",
   "version": "3.8.15"
  }
 },
 "nbformat": 4,
 "nbformat_minor": 4
}
